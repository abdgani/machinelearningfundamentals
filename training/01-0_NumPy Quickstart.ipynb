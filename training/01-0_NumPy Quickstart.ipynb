{
  "nbformat": 4,
  "nbformat_minor": 0,
  "metadata": {
    "kernelspec": {
      "display_name": "Python 3",
      "language": "python",
      "name": "python3"
    },
    "language_info": {
      "codemirror_mode": {
        "name": "ipython",
        "version": 3
      },
      "file_extension": ".py",
      "mimetype": "text/x-python",
      "name": "python",
      "nbconvert_exporter": "python",
      "pygments_lexer": "ipython3",
      "version": "3.8.3"
    },
    "colab": {
      "name": "01-0_NumPy Quickstart.ipynb",
      "provenance": []
    }
  },
  "cells": [
    {
      "cell_type": "code",
      "metadata": {
        "deletable": false,
        "editable": false,
        "id": "2Grl8LSAZ4Dn"
      },
      "source": [
        "# Copyright (c) 2019 Skymind AI Bhd.\n",
        "# Copyright (c) 2020 CertifAI Sdn. Bhd.\n",
        "#\n",
        "# This program and the accompanying materials are made available under the\n",
        "# terms of the Apache License, Version 2.0 which is available at\n",
        "# https://www.apache.org/licenses/LICENSE-2.0.\n",
        "# Unless required by applicable law or agreed to in writing, software\n",
        "# distributed under the License is distributed on an \"AS IS\" BASIS, WITHOUT\n",
        "# WARRANTIES OR CONDITIONS OF ANY KIND, either express or implied. See the\n",
        "# License for the specific language governing permissions and limitations\n",
        "# under the License.\n",
        "#\n",
        "# SPDX-License-Identifier: Apache-2.0"
      ],
      "execution_count": null,
      "outputs": []
    },
    {
      "cell_type": "markdown",
      "metadata": {
        "id": "SSXs-NlWZ4Du"
      },
      "source": [
        "# NumPy Quickstart "
      ]
    },
    {
      "cell_type": "markdown",
      "metadata": {
        "id": "eK91ahVyZ4Dv"
      },
      "source": [
        "We will use the **Numpy** module to create and apply mathematical operations on matrices."
      ]
    },
    {
      "cell_type": "code",
      "metadata": {
        "id": "m0FNeUeCZ4Dv"
      },
      "source": [
        "import numpy as np"
      ],
      "execution_count": null,
      "outputs": []
    },
    {
      "cell_type": "markdown",
      "metadata": {
        "id": "rvnBm9M_Z4Dw"
      },
      "source": [
        "Create a simple array of integers"
      ]
    },
    {
      "cell_type": "code",
      "metadata": {
        "id": "uAF-i3aiZ4Dw"
      },
      "source": [
        "array_1d = np.arange(0, 10)"
      ],
      "execution_count": null,
      "outputs": []
    },
    {
      "cell_type": "markdown",
      "metadata": {
        "id": "A8IyxfL4Z4Dx"
      },
      "source": [
        "The function `arange` creates an array from `range(0,10)`. The `arange()` function is similar to that of Python's `range()`."
      ]
    },
    {
      "cell_type": "code",
      "metadata": {
        "id": "4tcX5FyHZ4Dy"
      },
      "source": [
        "array_1d"
      ],
      "execution_count": null,
      "outputs": []
    },
    {
      "cell_type": "markdown",
      "metadata": {
        "id": "vDjZGbi_Z4Dy"
      },
      "source": [
        "Create a $2\\times2$ matrix. (2-dimensional array)"
      ]
    },
    {
      "cell_type": "code",
      "metadata": {
        "id": "_-j78sjcZ4Dz"
      },
      "source": [
        "array_2d = np.array([[1, 2], [3, 4]])"
      ],
      "execution_count": null,
      "outputs": []
    },
    {
      "cell_type": "code",
      "metadata": {
        "id": "U-40d35QZ4Dz"
      },
      "source": [
        "array_2d"
      ],
      "execution_count": null,
      "outputs": []
    },
    {
      "cell_type": "markdown",
      "metadata": {
        "id": "NFl7zyXhZ4Dz"
      },
      "source": [
        "Create a $3\\times 3$ matrix."
      ]
    },
    {
      "cell_type": "code",
      "metadata": {
        "id": "292c_oMwZ4Dz"
      },
      "source": [
        "array_3x3 = np.array([[1, 2, 3], [4, 5, 6], [7, 8, 9]])"
      ],
      "execution_count": null,
      "outputs": []
    },
    {
      "cell_type": "code",
      "metadata": {
        "id": "Y30zx9KkZ4D0"
      },
      "source": [
        "array_3x3"
      ],
      "execution_count": null,
      "outputs": []
    },
    {
      "cell_type": "markdown",
      "metadata": {
        "id": "yqggk8rFZ4D0"
      },
      "source": [
        "Perform addition of two $3\\times 3$ matrices."
      ]
    },
    {
      "cell_type": "code",
      "metadata": {
        "id": "0B7lUTE-Z4D0"
      },
      "source": [
        "matrixA = np.array([[1, 1, 1], [1, 1, 1], [1, 1, 1]])\n",
        "matrixB = np.array([[1, 1, 1], [1, 1, 1], [1, 1, 1]])"
      ],
      "execution_count": null,
      "outputs": []
    },
    {
      "cell_type": "code",
      "metadata": {
        "id": "g00b486EZ4D0"
      },
      "source": [
        "print(np.add(matrixA,matrixB))"
      ],
      "execution_count": null,
      "outputs": []
    },
    {
      "cell_type": "markdown",
      "metadata": {
        "id": "2Mvus0_8Z4D1"
      },
      "source": [
        "Perform subtraction of two $3\\times 3$ matrices."
      ]
    },
    {
      "cell_type": "code",
      "metadata": {
        "id": "GG-pOeq7Z4D1"
      },
      "source": [
        "matrixA = np.array([[2, 2, 2], [2, 2, 2], [2, 2, 2]])\n",
        "matrixB = np.array([[1, 1, 1], [1, 1, 1], [1, 1, 1]])"
      ],
      "execution_count": null,
      "outputs": []
    },
    {
      "cell_type": "code",
      "metadata": {
        "id": "H_x3xfeFZ4D1"
      },
      "source": [
        "print(np.subtract(matrixA, matrixB))"
      ],
      "execution_count": null,
      "outputs": []
    },
    {
      "cell_type": "markdown",
      "metadata": {
        "id": "AjOPrpB6Z4D1"
      },
      "source": [
        "Perform a Dot Product between 2 matrices.\n",
        "\n",
        "Remember the rule that the matrix product of a matrix $A$ of shape $m \\times n$ with a matrix $B$ of shape $n \\times o$ has shape $m \\times o$. "
      ]
    },
    {
      "cell_type": "code",
      "metadata": {
        "id": "fLn6uuT9Z4D1"
      },
      "source": [
        "matrixA = np.array([[1, 1, 1], [1, 1, 1], [1, 1, 1]])\n",
        "matrixA"
      ],
      "execution_count": null,
      "outputs": []
    },
    {
      "cell_type": "code",
      "metadata": {
        "id": "dlB_xfR4Z4D2"
      },
      "source": [
        "matrixB = np.array([[1, 1], [1, 1], [1, 1]])\n",
        "matrixB"
      ],
      "execution_count": null,
      "outputs": []
    },
    {
      "cell_type": "code",
      "metadata": {
        "id": "RPx0oIGvZ4D2"
      },
      "source": [
        "print(np.matmul(matrixA, matrixB))"
      ],
      "execution_count": null,
      "outputs": []
    },
    {
      "cell_type": "markdown",
      "metadata": {
        "id": "V35UY0cwZ4D2"
      },
      "source": [
        "The dot product of a $3\\times 3$ matrix with a $3\\times 2$ matric is a $3\\times 2$ matrix."
      ]
    },
    {
      "cell_type": "markdown",
      "metadata": {
        "id": "0w83MIQGZ4D2"
      },
      "source": [
        "Generate a $3\\times 3$ matrix with all zeros."
      ]
    },
    {
      "cell_type": "code",
      "metadata": {
        "scrolled": true,
        "id": "rftFm9T3Z4D3"
      },
      "source": [
        "zeros = np.zeros((3, 3))\n",
        "zeros"
      ],
      "execution_count": null,
      "outputs": []
    },
    {
      "cell_type": "markdown",
      "metadata": {
        "id": "iUVtGSqrZ4D3"
      },
      "source": [
        "Generate a $3\\times 3$ matrix with all ones."
      ]
    },
    {
      "cell_type": "code",
      "metadata": {
        "scrolled": true,
        "id": "KhjpgCqpZ4D3"
      },
      "source": [
        "ones = np.ones((3, 3))\n",
        "ones"
      ],
      "execution_count": null,
      "outputs": []
    },
    {
      "cell_type": "markdown",
      "metadata": {
        "id": "7Krf-SBYZ4D4"
      },
      "source": [
        "Create a 3D tensor."
      ]
    },
    {
      "cell_type": "code",
      "metadata": {
        "id": "RNzq8eb_Z4D4"
      },
      "source": [
        "tensor_3d = np.array([[[1, 1, 1, 1],\n",
        "                       [1, 1, 1, 1],\n",
        "                       [1, 1, 1, 1]],\n",
        "                      [[1, 1, 1, 1],\n",
        "                       [1, 1, 1, 1],\n",
        "                       [1, 1, 1, 1]]\n",
        "                     ])"
      ],
      "execution_count": null,
      "outputs": []
    },
    {
      "cell_type": "code",
      "metadata": {
        "scrolled": true,
        "id": "FyvsTdg4Z4D4"
      },
      "source": [
        "tensor_3d"
      ],
      "execution_count": null,
      "outputs": []
    },
    {
      "cell_type": "code",
      "metadata": {
        "id": "1sqr6sO8Z4D4"
      },
      "source": [
        "tensor_3d.shape"
      ],
      "execution_count": null,
      "outputs": []
    },
    {
      "cell_type": "markdown",
      "metadata": {
        "id": "DCXqyyF0Z4D4"
      },
      "source": [
        "The shape of the tensor is described as **Width * Rows * Columns**."
      ]
    },
    {
      "cell_type": "markdown",
      "metadata": {
        "id": "kpLaIR1GZ4D4"
      },
      "source": [
        "Below is an example of a 4-dimension tensor, or a tensor of `rank 4`."
      ]
    },
    {
      "cell_type": "code",
      "metadata": {
        "id": "rWTiQIqhZ4D4"
      },
      "source": [
        "tensor_4 = np.array([[[[1,2,3,7],\n",
        "                       [1,3,5,0],\n",
        "                       [2,3,4,4]],\n",
        "                      [[2,3,4,6],\n",
        "                       [6,3,4,8],\n",
        "                       [4,6,0,7]]],\n",
        "                     [[[1,2,6,9],\n",
        "                       [2,3,4,3],\n",
        "                       [7,4,4,3]],\n",
        "                      [[2,6,4,3],\n",
        "                       [7,3,4,2],\n",
        "                       [8,5,6,8]]]])"
      ],
      "execution_count": null,
      "outputs": []
    },
    {
      "cell_type": "markdown",
      "metadata": {
        "id": "_Njjo19aZ4D5"
      },
      "source": [
        "Using the `shape` attribute, we can see the magnitude of dimensions of said tensor.<br><br>\n",
        "A $n$-dimension tensor will display a number of $n$ magnitudes. We can also use `ndim` to show the rank(dimension) of the tensor."
      ]
    },
    {
      "cell_type": "code",
      "metadata": {
        "id": "sUqcAO7JZ4D6"
      },
      "source": [
        "print(tensor_4.shape)\n",
        "print(tensor_4.ndim)"
      ],
      "execution_count": null,
      "outputs": []
    },
    {
      "cell_type": "markdown",
      "metadata": {
        "id": "vW8JD30AZ4D6"
      },
      "source": [
        "## Common functions to operate on NumPy arrays"
      ]
    },
    {
      "cell_type": "code",
      "metadata": {
        "id": "Gw4V3beHZ4D6"
      },
      "source": [
        "array_3x3 = np.array([[1, 2, 3], [4, 5, 6], [7, 8, 9]])\n",
        "array_3x3"
      ],
      "execution_count": null,
      "outputs": []
    },
    {
      "cell_type": "markdown",
      "metadata": {
        "id": "LV5Xq6rlZ4D7"
      },
      "source": [
        "Check the shape of the array `array_3x3`."
      ]
    },
    {
      "cell_type": "code",
      "metadata": {
        "id": "MWld0Nl0Z4D7"
      },
      "source": [
        "array_3x3.shape"
      ],
      "execution_count": null,
      "outputs": []
    },
    {
      "cell_type": "markdown",
      "metadata": {
        "id": "3JAy_0vIZ4D7"
      },
      "source": [
        "Flatten `array_3x3`. Flatten will reduce any array of any dimensions into a 1-dimension array."
      ]
    },
    {
      "cell_type": "code",
      "metadata": {
        "id": "gysbp57CZ4D7"
      },
      "source": [
        "flattened_arr = array_3x3.ravel()"
      ],
      "execution_count": null,
      "outputs": []
    },
    {
      "cell_type": "code",
      "metadata": {
        "id": "-1Ohq9arZ4D7"
      },
      "source": [
        "flattened_arr"
      ],
      "execution_count": null,
      "outputs": []
    },
    {
      "cell_type": "code",
      "metadata": {
        "id": "8-N-0vVjZ4D7"
      },
      "source": [
        "flattened_arr.shape"
      ],
      "execution_count": null,
      "outputs": []
    },
    {
      "cell_type": "markdown",
      "metadata": {
        "id": "doQIvH0-Z4D8"
      },
      "source": [
        "**Use the `.copy()` method to clone the matrix instead of doing a reference.**"
      ]
    },
    {
      "cell_type": "code",
      "metadata": {
        "scrolled": true,
        "id": "5k_oHJQ0Z4D8"
      },
      "source": [
        "matrixA = np.array([[1, 2, 3], [4, 5, 6], [7, 8, 9]]) \n",
        "matrixA"
      ],
      "execution_count": null,
      "outputs": []
    },
    {
      "cell_type": "markdown",
      "metadata": {
        "id": "oldxrH75Z4D8"
      },
      "source": [
        "`matrixB` is a reference to `matrixA`. `matrixC` is a copy of `matrixA`."
      ]
    },
    {
      "cell_type": "code",
      "metadata": {
        "scrolled": true,
        "id": "H5ArS3RKZ4D8"
      },
      "source": [
        "matrixB = matrixA \n",
        "matrixB"
      ],
      "execution_count": null,
      "outputs": []
    },
    {
      "cell_type": "code",
      "metadata": {
        "id": "CD4Nqs8fZ4D8"
      },
      "source": [
        "matrixC = np.copy(matrixA)"
      ],
      "execution_count": null,
      "outputs": []
    },
    {
      "cell_type": "code",
      "metadata": {
        "id": "7IjQ5FouZ4D8"
      },
      "source": [
        "matrixC"
      ],
      "execution_count": null,
      "outputs": []
    },
    {
      "cell_type": "code",
      "metadata": {
        "id": "ROJwGYt8Z4D8"
      },
      "source": [
        "matrixA[0] = [99, 99, 99]"
      ],
      "execution_count": null,
      "outputs": []
    },
    {
      "cell_type": "code",
      "metadata": {
        "id": "N24WfdBnZ4D9"
      },
      "source": [
        "matrixA"
      ],
      "execution_count": null,
      "outputs": []
    },
    {
      "cell_type": "code",
      "metadata": {
        "id": "nhwK1m7TZ4D9"
      },
      "source": [
        "matrixB"
      ],
      "execution_count": null,
      "outputs": []
    },
    {
      "cell_type": "code",
      "metadata": {
        "id": "6xNNj_d_Z4D9"
      },
      "source": [
        "matrixC"
      ],
      "execution_count": null,
      "outputs": []
    },
    {
      "cell_type": "markdown",
      "metadata": {
        "id": "N1Q18dq8Z4D9"
      },
      "source": [
        "Note that when we modify `matrixA`, `matrixB` changes, but not `matrixC`."
      ]
    },
    {
      "cell_type": "markdown",
      "metadata": {
        "id": "pYz_haA3Z4D9"
      },
      "source": [
        "## Array Manipulation"
      ]
    },
    {
      "cell_type": "markdown",
      "metadata": {
        "id": "Nllfv_FGZ4D9"
      },
      "source": [
        "**Perform vertical stack for 2 matrices using `numpy.vstack`.**"
      ]
    },
    {
      "cell_type": "code",
      "metadata": {
        "scrolled": true,
        "id": "gYdB40s3Z4D9"
      },
      "source": [
        "matrixA = np.zeros((3, 3))\n",
        "matrixA"
      ],
      "execution_count": null,
      "outputs": []
    },
    {
      "cell_type": "code",
      "metadata": {
        "id": "lrLCxFvFZ4D-"
      },
      "source": [
        "matrixB = np.ones((3, 3))\n",
        "matrixB"
      ],
      "execution_count": null,
      "outputs": []
    },
    {
      "cell_type": "code",
      "metadata": {
        "id": "aVXOlkQaZ4D-"
      },
      "source": [
        "vstack_matrix = np.vstack((matrixA, matrixB))\n",
        "vstack_matrix"
      ],
      "execution_count": null,
      "outputs": []
    },
    {
      "cell_type": "code",
      "metadata": {
        "id": "S3wXJOJIZ4D-"
      },
      "source": [
        "vstack_matrix.shape"
      ],
      "execution_count": null,
      "outputs": []
    },
    {
      "cell_type": "markdown",
      "metadata": {
        "id": "YamsAW0eZ4D-"
      },
      "source": [
        "**Perform horizontal stack for 2 matrices using `numpy.hstack`.**"
      ]
    },
    {
      "cell_type": "code",
      "metadata": {
        "id": "YuYZQdM3Z4D-"
      },
      "source": [
        "hstack_matrix = np.hstack((matrixA, matrixB))\n",
        "hstack_matrix"
      ],
      "execution_count": null,
      "outputs": []
    },
    {
      "cell_type": "code",
      "metadata": {
        "id": "6XGSFK5ZZ4D-"
      },
      "source": [
        "hstack_matrix.shape"
      ],
      "execution_count": null,
      "outputs": []
    },
    {
      "cell_type": "markdown",
      "metadata": {
        "id": "ki-_I_6CZ4D_"
      },
      "source": [
        "**Perform depth stack for 2 matrices using `numpy.dstack`.**"
      ]
    },
    {
      "cell_type": "code",
      "metadata": {
        "id": "A73lU1pGZ4D_"
      },
      "source": [
        "matrixA = np.array([[1, 2, 3], [4, 5, 6], [7, 8, 9]])\n",
        "matrixB = np.array([[10, 20, 30], [40, 50, 60], [70, 80, 90]])"
      ],
      "execution_count": null,
      "outputs": []
    },
    {
      "cell_type": "code",
      "metadata": {
        "id": "-oagiU2_Z4D_"
      },
      "source": [
        "dstack_matrix = np.dstack((matrixA, matrixB))\n",
        "dstack_matrix"
      ],
      "execution_count": null,
      "outputs": []
    },
    {
      "cell_type": "code",
      "metadata": {
        "scrolled": true,
        "id": "8bxuUCufZ4D_"
      },
      "source": [
        "dstack_matrix.shape"
      ],
      "execution_count": null,
      "outputs": []
    },
    {
      "cell_type": "markdown",
      "metadata": {
        "id": "389lR-Z8Z4D_"
      },
      "source": [
        "**Transpose a matrix.**"
      ]
    },
    {
      "cell_type": "code",
      "metadata": {
        "id": "weIwT72rZ4EA"
      },
      "source": [
        "matrixC = np.transpose(matrixA)\n",
        "matrixC"
      ],
      "execution_count": null,
      "outputs": []
    },
    {
      "cell_type": "markdown",
      "metadata": {
        "id": "SJm_pJNCZ4EA"
      },
      "source": [
        "**Reshape a matrix into the assigned row x column.**"
      ]
    },
    {
      "cell_type": "code",
      "metadata": {
        "scrolled": true,
        "id": "VgWWVOxQZ4EA"
      },
      "source": [
        "matrixC = matrixA.reshape(1, 9)\n",
        "matrixC"
      ],
      "execution_count": null,
      "outputs": []
    },
    {
      "cell_type": "markdown",
      "metadata": {
        "id": "rkFoEWFbZ4EA"
      },
      "source": [
        "**Split a matrix vertically at the n-th index to 2 equal-sized subarrays.**"
      ]
    },
    {
      "cell_type": "code",
      "metadata": {
        "scrolled": true,
        "id": "y8WDeNMxZ4EB"
      },
      "source": [
        "matrixA = np.array([[0, 0, 0], [0, 0, 0], [1, 1, 1], [1, 1, 1]])\n",
        "matrixA"
      ],
      "execution_count": null,
      "outputs": []
    },
    {
      "cell_type": "code",
      "metadata": {
        "id": "oJGvDUt7Z4EB"
      },
      "source": [
        "matrixC = np.vsplit(matrixA, 2)\n",
        "matrixC"
      ],
      "execution_count": null,
      "outputs": []
    },
    {
      "cell_type": "markdown",
      "metadata": {
        "id": "6SqZcOObZ4EB"
      },
      "source": [
        "**Split a matrix horizontally into 3 equal-sized subarrays.**"
      ]
    },
    {
      "cell_type": "code",
      "metadata": {
        "id": "pFdGtldRZ4EB"
      },
      "source": [
        "matrixA = np.array([[0, 0, 0], [0, 0, 0], [1, 1, 1], [1, 1, 1]])\n",
        "matrixA"
      ],
      "execution_count": null,
      "outputs": []
    },
    {
      "cell_type": "code",
      "metadata": {
        "id": "TzLn1NhwZ4EB"
      },
      "source": [
        "matrixC = np.hsplit(matrixA, 3)\n",
        "matrixC"
      ],
      "execution_count": null,
      "outputs": []
    },
    {
      "cell_type": "markdown",
      "metadata": {
        "id": "EvHSS8ynZ4EC"
      },
      "source": [
        "## Exercise"
      ]
    },
    {
      "cell_type": "markdown",
      "metadata": {
        "id": "V8S2NPc4Z4EC"
      },
      "source": [
        "Create a $5\\times 3$ matrix populated with random samples from a uniform distribution and name it **`mat_1`**.\n",
        "\n",
        "*hint: `numpy.random.rand`*"
      ]
    },
    {
      "cell_type": "code",
      "metadata": {
        "id": "6yn1kvLmZ4EC"
      },
      "source": [
        ""
      ],
      "execution_count": null,
      "outputs": []
    },
    {
      "cell_type": "markdown",
      "metadata": {
        "id": "BdDRsq0bZ4EC"
      },
      "source": [
        "Create a matrix **`mat_2`** of any size. The matrix should be eligible to perform matrix multiplication with `mat_1`."
      ]
    },
    {
      "cell_type": "code",
      "metadata": {
        "id": "_AQjZltGZ4EC"
      },
      "source": [
        ""
      ],
      "execution_count": null,
      "outputs": []
    },
    {
      "cell_type": "markdown",
      "metadata": {
        "id": "iUgLpXPrZ4ED"
      },
      "source": [
        "Perform matrix multiplication of `mat_1` and `mat_2` and store it in variable **`mat_3`**."
      ]
    },
    {
      "cell_type": "code",
      "metadata": {
        "id": "NB1BueydZ4ED"
      },
      "source": [
        ""
      ],
      "execution_count": null,
      "outputs": []
    },
    {
      "cell_type": "markdown",
      "metadata": {
        "id": "1XFqL5vuZ4ED"
      },
      "source": [
        "Create another matrix that has the same number of columns as `mat_3` and name it **`mat_4`**"
      ]
    },
    {
      "cell_type": "code",
      "metadata": {
        "id": "ZapGLRVQZ4ED"
      },
      "source": [
        ""
      ],
      "execution_count": null,
      "outputs": []
    },
    {
      "cell_type": "markdown",
      "metadata": {
        "id": "OE2c1CRsZ4ED"
      },
      "source": [
        "Stack matrix `mat_3` and `mat_4` vertically. Name the result **`mat_5`**."
      ]
    },
    {
      "cell_type": "code",
      "metadata": {
        "id": "V2PquICwZ4ED"
      },
      "source": [
        ""
      ],
      "execution_count": null,
      "outputs": []
    },
    {
      "cell_type": "markdown",
      "metadata": {
        "id": "ims5M_SJZ4ED"
      },
      "source": [
        "Transpose `mat_5` and name the transposed matrix **`mat_6`**."
      ]
    },
    {
      "cell_type": "code",
      "metadata": {
        "id": "WOnhafGbZ4ED"
      },
      "source": [
        ""
      ],
      "execution_count": null,
      "outputs": []
    },
    {
      "cell_type": "markdown",
      "metadata": {
        "id": "viiS0iPDZ4EE"
      },
      "source": [
        "Check the shape of **`mat_6`**."
      ]
    },
    {
      "cell_type": "code",
      "metadata": {
        "id": "pEEdjgSfZ4EE"
      },
      "source": [
        ""
      ],
      "execution_count": null,
      "outputs": []
    },
    {
      "cell_type": "markdown",
      "metadata": {
        "id": "h2ISI8ZtZ4EE"
      },
      "source": [
        "Vertically split **`mat_6`** into two subarrays."
      ]
    },
    {
      "cell_type": "code",
      "metadata": {
        "id": "zjByxtxyZ4EE"
      },
      "source": [
        ""
      ],
      "execution_count": null,
      "outputs": []
    }
  ]
}